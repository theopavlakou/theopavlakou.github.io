{
 "cells": [
  {
   "cell_type": "markdown",
   "metadata": {},
   "source": [
    "# Finite difference estimation of derivatives\n",
    "\n",
    "In many situations in machine learning it is useful to debug our code by making sure our gradients are correct. One method that is used to do this, is to ensure that the gradient that our code is giving us (be that our neural network or some other model) is close enough to a numerical estimate of the gradient. This can be done in a variety of ways, but her I will just look at the most common way and a way that is more accurate, and we will demonstrate what the implications are of using one over the other. "
   ]
  },
  {
   "cell_type": "markdown",
   "metadata": {},
   "source": [
    "# Forward difference\n",
    "\n",
    "The first time we were presented with the definition of the derivative of $f$, we were shown the following equation:\n",
    "\n",
    "$$\n",
    "\\frac{df(x)}{dx} = \\lim_{\\epsilon \\rightarrow 0} \\frac{f(x+\\epsilon) -f(x)}{\\epsilon}.\n",
    "$$\n",
    "\n",
    "Given this, it seems quite natural that if you are asked to give an estimate to the derivative, you would probably do the following:\n",
    "\n",
    "$$\n",
    "g_f(x) = \\frac{f(x+\\epsilon)-f(x)}{\\epsilon},\n",
    "$$\n",
    "\n",
    "and you would try to set $\\epsilon$ to be *really* small. This is called the **foward difference estimate** for obvious reasons. \n",
    "\n",
    "Let's analyse what the error on this estimate is by doing a Taylor series expansion about $x$. This gives us\n",
    "\n",
    "$$\n",
    "f(x+\\epsilon) = f(x) + \\epsilon f'(x) + \\mathcal{O}(\\epsilon^2),\n",
    "$$\n",
    "\n",
    "where the last term shows what the error in the estimate of $f(x+\\epsilon)$ would be, given only the first two terms. If we re-arrange this equation, we get\n",
    "\n",
    "$$\n",
    "f(x+\\epsilon) - f(x) = \\epsilon f'(x) + \\mathcal{O}(\\epsilon^2),\n",
    "$$\n",
    "\n",
    "and then, if we divide by $\\epsilon$ and move the error term to the other side, we get\n",
    "\n",
    "$$\n",
    "f'(x) = \\frac{f(x+\\epsilon) - f(x)}{\\epsilon} - \\mathcal{O}(\\epsilon).\n",
    "$$\n",
    "\n",
    "As we can see here, the derivative at $x$ is given by the finite difference estimate *plus an error that scales with $\\epsilon$*. Now, what this means is that, if we half $\\epsilon$, we can only hope for the error on our estimate to be roughly halved also. Kind of sucks... \n"
   ]
  },
  {
   "cell_type": "markdown",
   "metadata": {},
   "source": [
    "# Central difference\n",
    "\n",
    "Do not despare! There is a better solution. We can instead use the **central difference estimate**. What is that you say? Well, the definition for the gradient is just as true if we write it as:\n",
    "\n",
    "$$\n",
    "\\frac{df(x)}{dx} = \\lim_{\\epsilon \\rightarrow 0} \\frac{f(x+\\frac{\\epsilon}{2}) -f(x-\\frac{\\epsilon}{2})}{\\epsilon}.\n",
    "$$\n",
    "\n",
    "With this in mind, we could write the estimate as:\n",
    "\n",
    "$$\n",
    "g_c(x) = \\frac{f(x+\\frac{\\epsilon}{2}) -f(x-\\frac{\\epsilon}{2})}{\\epsilon}.\n",
    "$$\n",
    "\n",
    "Now let's do the Taylor series expansion on each of the teams in the numerator. We end up with\n",
    "\n",
    "$$\n",
    "f(x+\\frac{\\epsilon}{2}) = f(x) + \\frac{\\epsilon}{2} f'(x) + \\frac{\\epsilon^2}{8} f''(x) + \\mathcal{O}(\\epsilon^3),\n",
    "$$\n",
    "\n",
    "and \n",
    "\n",
    "$$\n",
    "f(x-\\frac{\\epsilon}{2}) = f(x) - \\frac{\\epsilon}{2} f'(x) + \\frac{\\epsilon^2}{8} f''(x) - \\mathcal{O}(\\epsilon^3).\n",
    "$$\n",
    "\n",
    "The only thing we did differently in this case is that we expanded up to second order derivatives. Now, let's subtract the first equation from the second equation. \n",
    "\n",
    "$$\n",
    "f(x+\\frac{\\epsilon}{2}) -  f(x-\\frac{\\epsilon}{2}) =  \\epsilon f'(x) + \\mathcal{O}(\\epsilon^3),\n",
    "$$\n",
    "and if we re-arrange we get the following\n",
    "\n",
    "$$\n",
    "f'(x) = \\frac{f(x+\\frac{\\epsilon}{2}) -  f(x-\\frac{\\epsilon}{2})}{\\epsilon} - \\mathcal{O}(\\epsilon^2).\n",
    "$$\n",
    "\n",
    "Boom! Just like that our error went from linear to quadratic in $\\epsilon$. What does that mean? Well, if we now half $\\epsilon$, we can expect the error to go down by a quarter!"
   ]
  },
  {
   "cell_type": "markdown",
   "metadata": {},
   "source": [
    "# Example\n",
    "\n",
    "If you don't believe me, let's look at the example below. We will create a function and will compare the *average absolute errors* between the actual derivatives and the derivatives given by both the forward and central difference methods. That is to say, we will evaluate\n",
    "\n",
    "$$\n",
    "E_a = \\frac{1}{\\lvert \\mathcal{X}\\rvert}\\sum_{x\\in \\mathcal{X}} \\lvert f'(x) - g_a(x)\\rvert,\n",
    "$$\n",
    "where $a$ can be either $f$ for the forward estimate or $c$ for the central estimate and $\\mathcal{X}$ is a set of points at which we will evaluate. "
   ]
  },
  {
   "cell_type": "code",
   "execution_count": 56,
   "metadata": {
    "collapsed": false
   },
   "outputs": [
    {
     "data": {
      "image/png": "[encoded data removed]",
      "text/plain": [
       "<matplotlib.figure.Figure at 0x12424ac90>"
      ]
     },
     "metadata": {},
     "output_type": "display_data"
    }
   ],
   "source": [
    "%matplotlib inline\n",
    "import numpy as np\n",
    "import matplotlib.pyplot as plt\n",
    "import matplotlib\n",
    "import seaborn as sns\n",
    "\n",
    "# Function we care about. \n",
    "def f(x):\n",
    "    return np.power(x, 3) - 4*np.power(x, 2) - 2*x\n",
    "\n",
    "# Analytical derivative of function we care about. \n",
    "def df(x):\n",
    "    return 3*np.power(x, 2) - 8*x - 2\n",
    "\n",
    "# Estimated derivatives using the forward and central \n",
    "# difference methods. \n",
    "def df_forward(x, epsilon):\n",
    "    return (f(x + epsilon) - f(x))/epsilon\n",
    "\n",
    "def df_central(x, epsilon):\n",
    "    return (f(x + epsilon/2) - f(x - epsilon/2))/epsilon\n",
    "\n",
    "# Absolute errors in the derivatives using the forward \n",
    "# and central difference methods.  \n",
    "def absolute_error_df_forward(x, epsilon):\n",
    "    return np.abs(df_forward(x, epsilon) - df(x))\n",
    "\n",
    "def absolute_error_df_central(x, epsilon):\n",
    "    return np.abs(df_central(x, epsilon) - df(x))\n",
    "\n",
    "x_min = -2\n",
    "x_max = 4\n",
    "num_points = 101\n",
    "label_size = 18\n",
    "\n",
    "x = np.linspace(x_min, x_max, num_points)\n",
    "\n",
    "# Plot the function from x_min to x_max. \n",
    "fig, ax = plt.subplots()\n",
    "ax.plot(x, f(x))\n",
    "ax.set_ylabel(\"$f(x)$\", fontsize=label_size)\n",
    "ax.set_xlabel(\"$x$\", fontsize=label_size);"
   ]
  },
  {
   "cell_type": "code",
   "execution_count": 57,
   "metadata": {
    "collapsed": false
   },
   "outputs": [
    {
     "name": "stdout",
     "output_type": "stream",
     "text": [
      "--- Epsilon is 0.1 ---\n",
      "    Forward estimate average absolute error is 0.458910891089\n",
      "    Central estimate average absolute error is 0.0025\n",
      "\n",
      "--- Epsilon is 0.01 ---\n",
      "    Forward estimate average absolute error is 0.0459891089109\n",
      "    Central estimate average absolute error is 2.49999999235e-05\n",
      "\n",
      "--- Epsilon is 0.001 ---\n",
      "    Forward estimate average absolute error is 0.00459989108956\n",
      "    Central estimate average absolute error is 2.50000013912e-07\n",
      "\n",
      "--- Epsilon is 0.0001 ---\n",
      "    Forward estimate average absolute error is 0.000459998916463\n",
      "    Central estimate average absolute error is 2.50330768436e-09\n",
      "\n",
      "--- Epsilon is 1e-05 ---\n",
      "    Forward estimate average absolute error is 4.59999898144e-05\n",
      "    Central estimate average absolute error is 1.41731850953e-10\n",
      "\n"
     ]
    }
   ],
   "source": [
    "# Different epsilon values to try.\n",
    "epsilon = [0.1, 0.01, 0.001, 0.0001, 1e-5]\n",
    "\n",
    "# Places to evaluate the gradient. \n",
    "x_eval = np.array([-2, -1, -0.5, 1, 2, 2.5, 3, 3.5])\n",
    "\n",
    "# Average absolute error for each epsilon using forward and central method.\n",
    "error_forward = {}\n",
    "error_central = {}\n",
    "\n",
    "for e in epsilon:\n",
    "    error_forward[e] = absolute_error_df_forward(x, e).mean()\n",
    "    error_central[e] = absolute_error_df_central(x, e).mean()\n",
    "    print(\"--- Epsilon is {0} ---\".format(e))\n",
    "    print(\"    Forward estimate average absolute error is {0}\".format(error_forward[e]))\n",
    "    print(\"    Central estimate average absolute error is {0}\\n\".format(error_central[e]))\n"
   ]
  },
  {
   "cell_type": "markdown",
   "metadata": {},
   "source": [
    "# Conclusion\n",
    "\n",
    "As we can see in this case, the central difference method blows the forward difference method out of the water, especially when $\\epsilon$ becomes very small. We can see that, as we foresaw, if we multiply $\\epsilon$ by a factor of $10^{-1}$ for the forward difference case, the error only decreases by $10^{-1}$. However, when we do the same for the central difference method, the error shrinks by a factor of $10^{-2}$! \n",
    "\n",
    "This really makes a difference when working on a computer with finite precision, because $\\epsilon$ can only be so small before you experience numerical issues. "
   ]
  }
 ],
 "metadata": {
  "anaconda-cloud": {},
  "kernelspec": {
   "display_name": "Python [default]",
   "language": "python",
   "name": "python2"
  },
  "language_info": {
   "codemirror_mode": {
    "name": "ipython",
    "version": 2
   },
   "file_extension": ".py",
   "mimetype": "text/x-python",
   "name": "python",
   "nbconvert_exporter": "python",
   "pygments_lexer": "ipython2",
   "version": "2.7.13"
  }
 },
 "nbformat": 4,
 "nbformat_minor": 0
}
